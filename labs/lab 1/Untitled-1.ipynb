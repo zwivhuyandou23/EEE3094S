{
 "cells": [
  {
   "cell_type": "code",
   "execution_count": 3,
   "metadata": {},
   "outputs": [
    {
     "ename": "SyntaxError",
     "evalue": "invalid syntax (2813180094.py, line 1)",
     "output_type": "error",
     "traceback": [
      "\u001b[1;36m  Cell \u001b[1;32mIn[3], line 1\u001b[1;36m\u001b[0m\n\u001b[1;33m    using ControlSystems, Plots\u001b[0m\n\u001b[1;37m          ^\u001b[0m\n\u001b[1;31mSyntaxError\u001b[0m\u001b[1;31m:\u001b[0m invalid syntax\n"
     ]
    }
   ],
   "source": [
    "using ControlSystems, Plots\n",
    "\n",
    "# Define transfer function coefficients\n",
    "num1 = 0.753 * 4.393^2\n",
    "den1 = [1, 2*0.4481*4.393, 4.393^2]\n",
    "num2 = 5\n",
    "den2 = [1]\n",
    "\n",
    "# Create transfer functions\n",
    "G1 = tf(num1, den1)\n",
    "G2 = tf(num2, den2)\n",
    "\n",
    "# Combine transfer functions\n",
    "G = G1 + G2\n",
    "\n",
    "# Calculate step response\n",
    "t, y = step(G)\n",
    "\n",
    "# Extract performance metrics\n",
    "info = stepinfo(G)\n",
    "period = 2 * info.peaktime  # Assuming a second-order system\n",
    "overshoot = info.overshoot * 100  # Convert to percentage\n",
    "settling_time = info.settlingtime\n",
    "settling_amplitude = maximum(y[t > settling_time])\n",
    "\n",
    "# Plot the step response\n",
    "plot(t, y, label=\"Step Response\")\n",
    "xlabel(\"Time (s)\")\n",
    "ylabel(\"Output\")\n",
    "title(\"Step Response\")\n",
    "grid(true)\n",
    "\n",
    "# Add performance metrics as annotations\n",
    "text!(settling_time, settling_amplitude, \"Settling Amplitude: $(settling_amplitude, digits=2)\")\n",
    "text!((period / 2), maximum(y), \"Overshoot: $(overshoot, digits=2)%\")\n",
    "\n",
    "legend!(bottom=true)\n",
    "show()\n"
   ]
  },
  {
   "cell_type": "code",
   "execution_count": null,
   "metadata": {},
   "outputs": [],
   "source": []
  }
 ],
 "metadata": {
  "kernelspec": {
   "display_name": "Python 3",
   "language": "python",
   "name": "python3"
  },
  "language_info": {
   "codemirror_mode": {
    "name": "ipython",
    "version": 3
   },
   "file_extension": ".py",
   "mimetype": "text/x-python",
   "name": "python",
   "nbconvert_exporter": "python",
   "pygments_lexer": "ipython3",
   "version": "3.11.3"
  }
 },
 "nbformat": 4,
 "nbformat_minor": 2
}
