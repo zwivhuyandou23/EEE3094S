{
 "cells": [
  {
   "cell_type": "code",
   "execution_count": 1,
   "metadata": {},
   "outputs": [
    {
     "ename": "ArgumentError",
     "evalue": "ArgumentError: Package Plots not found in current path.\n- Run `import Pkg; Pkg.add(\"Plots\")` to install the Plots package.",
     "output_type": "error",
     "traceback": [
      "ArgumentError: Package Plots not found in current path.\n",
      "- Run `import Pkg; Pkg.add(\"Plots\")` to install the Plots package.\n",
      "\n",
      "Stacktrace:\n",
      "  [1] macro expansion\n",
      "    @ .\\loading.jl:1772 [inlined]\n",
      "  [2] macro expansion\n",
      "    @ .\\lock.jl:267 [inlined]\n",
      "  [3] __require(into::Module, mod::Symbol)\n",
      "    @ Base .\\loading.jl:1753\n",
      "  [4] #invoke_in_world#3\n",
      "    @ .\\essentials.jl:926 [inlined]\n",
      "  [5] invoke_in_world\n",
      "    @ .\\essentials.jl:923 [inlined]\n",
      "  [6] require(into::Module, mod::Symbol)\n",
      "    @ Base .\\loading.jl:1746\n",
      "  [7] eval\n",
      "    @ .\\boot.jl:385 [inlined]\n",
      "  [8] include_string(mapexpr::typeof(REPL.softscope), mod::Module, code::String, filename::String)\n",
      "    @ Base .\\loading.jl:2076\n",
      "  [9] #invokelatest#2\n",
      "    @ .\\essentials.jl:892 [inlined]\n",
      " [10] invokelatest\n",
      "    @ .\\essentials.jl:889 [inlined]\n",
      " [11] (::VSCodeServer.var\"#217#218\"{VSCodeServer.NotebookRunCellArguments, String})()\n",
      "    @ VSCodeServer c:\\Users\\Zwivh\\.vscode\\extensions\\julialang.language-julia-1.124.2\\scripts\\packages\\VSCodeServer\\src\\serve_notebook.jl:24\n",
      " [12] withpath(f::VSCodeServer.var\"#217#218\"{VSCodeServer.NotebookRunCellArguments, String}, path::String)\n",
      "    @ VSCodeServer c:\\Users\\Zwivh\\.vscode\\extensions\\julialang.language-julia-1.124.2\\scripts\\packages\\VSCodeServer\\src\\repl.jl:276\n",
      " [13] notebook_runcell_request(conn::VSCodeServer.JSONRPC.JSONRPCEndpoint{Base.PipeEndpoint, Base.PipeEndpoint}, params::VSCodeServer.NotebookRunCellArguments)\n",
      "    @ VSCodeServer c:\\Users\\Zwivh\\.vscode\\extensions\\julialang.language-julia-1.124.2\\scripts\\packages\\VSCodeServer\\src\\serve_notebook.jl:13\n",
      " [14] dispatch_msg(x::VSCodeServer.JSONRPC.JSONRPCEndpoint{Base.PipeEndpoint, Base.PipeEndpoint}, dispatcher::VSCodeServer.JSONRPC.MsgDispatcher, msg::Dict{String, Any})\n",
      "    @ VSCodeServer.JSONRPC c:\\Users\\Zwivh\\.vscode\\extensions\\julialang.language-julia-1.124.2\\scripts\\packages\\JSONRPC\\src\\typed.jl:67\n",
      " [15] serve_notebook(pipename::String, debugger_pipename::String, outputchannel_logger::Base.CoreLogging.SimpleLogger; error_handler::var\"#5#10\"{String})\n",
      "    @ VSCodeServer c:\\Users\\Zwivh\\.vscode\\extensions\\julialang.language-julia-1.124.2\\scripts\\packages\\VSCodeServer\\src\\serve_notebook.jl:147\n",
      " [16] top-level scope\n",
      "    @ c:\\Users\\Zwivh\\.vscode\\extensions\\julialang.language-julia-1.124.2\\scripts\\notebook\\notebook.jl:35"
     ]
    }
   ],
   "source": [
    "using ControlSystems, Plots\n",
    "\n",
    "s = tf(\"s\")\n",
    "num = [23.85]\n",
    "den = [5.44, 1]\n",
    "G = tf(num, den)\n",
    "\n",
    "# Plot root locus\n",
    "plot(rlocus(G))\n",
    "\n",
    "# Show specified points\n",
    "scatter!([-0.8, -0.8 + 1.561j, -0.8 - 1.561j])\n",
    "\n",
    "# Show angle with respect to the origin\n",
    "theta = angle([-0.8 + 1.561j, -0.8 - 1.561j])\n",
    "annotate!([-0.8 + 1.561j, -0.8 - 1.561j], [string(round(theta[1] * 180 / pi, digits=2), \" deg\"), string(round(theta[2] * 180 / pi, digits=2), \" deg\")])\n",
    "\n",
    "# Increase grid scale\n",
    "xlims!([-2, 2])\n",
    "ylims!([-2, 2])\n",
    "\n",
    "# Show angle of 62.87 degrees with respect to the -real axis\n",
    "x = -0.8\n",
    "y = tan(62.87 * pi / 180) * x\n",
    "plot!([0, x], [0, y], linestyle=:dash)\n",
    "annotate!(x, y, \"62.87 deg\")"
   ]
  },
  {
   "cell_type": "code",
   "execution_count": null,
   "metadata": {},
   "outputs": [],
   "source": []
  }
 ],
 "metadata": {
  "kernelspec": {
   "display_name": "Julia 1.10.4",
   "language": "julia",
   "name": "julia-1.10"
  },
  "language_info": {
   "file_extension": ".jl",
   "mimetype": "application/julia",
   "name": "julia",
   "version": "1.10.4"
  }
 },
 "nbformat": 4,
 "nbformat_minor": 2
}
